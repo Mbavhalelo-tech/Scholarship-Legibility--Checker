{
  "nbformat": 4,
  "nbformat_minor": 0,
  "metadata": {
    "colab": {
      "provenance": []
    },
    "kernelspec": {
      "name": "python3",
      "display_name": "Python 3"
    },
    "language_info": {
      "name": "python"
    }
  },
  "cells": [
    {
      "cell_type": "markdown",
      "source": [
        "## Scholarship Eligibility Checker"
      ],
      "metadata": {
        "id": "OMmoLUeMaFCM"
      }
    },
    {
      "cell_type": "code",
      "execution_count": null,
      "metadata": {
        "id": "DCrYITxBZKxb"
      },
      "outputs": [],
      "source": [
        "def check_eligibility(ages):\n",
        "    \"\"\"\n",
        "    Checks which ages are eligible for scholarship (age > 18).\n",
        "\n",
        "    Args:\n",
        "        ages (list): List of ages to check\n",
        "\n",
        "    Returns:\n",
        "        tuple: (eligible_ages, ineligible_ages)\n",
        "    \"\"\"\n",
        "    eligible = []\n",
        "    ineligible = []\n",
        "\n",
        "    for age in ages:\n",
        "        if age > 18:\n",
        "            eligible.append(age)\n",
        "        else:\n",
        "            ineligible.append(age)\n",
        "\n",
        "    return eligible, ineligible"
      ]
    },
    {
      "cell_type": "markdown",
      "source": [
        "## Markdown explaination\n",
        "the funcion check 'check_eligibility()'\n",
        "1. Takes a list if ages as input\n",
        "2. Create two empty list to store result\n",
        "3. Loops through each age\n",
        "4. Checks if ages > 18\n",
        "5. Appends to appropriate list\n",
        "6. Return both lists"
      ],
      "metadata": {
        "id": "APjJ5JebbVxq"
      }
    },
    {
      "cell_type": "code",
      "source": [
        "def display_results(eligible, ineligible):\n",
        "    \"\"\"\n",
        "    Displays the results in a user-friendly format\n",
        "\n",
        "    Args:\n",
        "        eligible (list): Eligible ages\n",
        "        ineligible (list): Ineligible ages\n",
        "    \"\"\"\n",
        "    print(\"=== Scholarship Eligibility Results ===\")\n",
        "    print(f\"\\nEligible candidates (age > 18): {len(eligible)}\")\n",
        "    print(eligible if eligible else \"None\")\n",
        "\n",
        "    print(f\"\\nIneligible candidates (age ≤ 18): {len(ineligible)}\")\n",
        "    print(ineligible if ineligible else \"None\")\n",
        "\n",
        "    total = len(eligible) + len(ineligible)\n",
        "    if total > 0:\n",
        "        percentage = (len(eligible) / total) * 100\n",
        "        print(f\"\\nPercentage eligible: {percentage:.1f}%\")"
      ],
      "metadata": {
        "id": "ixsM1_D7dHOb"
      },
      "execution_count": null,
      "outputs": []
    },
    {
      "cell_type": "markdown",
      "source": [
        "## Exammple usage(Code cell)"
      ],
      "metadata": {
        "id": "P4VfFfXndXnG"
      }
    },
    {
      "cell_type": "code",
      "source": [
        "# Example usage\n",
        "ages_list = [15, 19, 22, 17, 18, 20, 16, 21, 23, 18]\n",
        "\n",
        "# Check eligibility\n",
        "eligible, ineligible = check_eligibility(ages_list)\n",
        "\n",
        "# Display results\n",
        "display_results(eligible, ineligible)"
      ],
      "metadata": {
        "colab": {
          "base_uri": "https://localhost:8080/"
        },
        "id": "QRw8eT6MdfU5",
        "outputId": "7c8dcdfa-d3e4-4cea-a30c-9475936568c8"
      },
      "execution_count": null,
      "outputs": [
        {
          "output_type": "stream",
          "name": "stdout",
          "text": [
            "=== Scholarship Eligibility Results ===\n",
            "\n",
            "Eligible candidates (age > 18): 5\n",
            "[19, 22, 20, 21, 23]\n",
            "\n",
            "Ineligible candidates (age ≤ 18): 5\n",
            "[15, 17, 18, 16, 18]\n",
            "\n",
            "Percentage eligible: 50.0%\n"
          ]
        }
      ]
    },
    {
      "cell_type": "markdown",
      "source": [
        "## interactive input (code celll)"
      ],
      "metadata": {
        "id": "dGanu974drhG"
      }
    },
    {
      "cell_type": "code",
      "source": [
        "# Interactive version\n",
        "print(\"Enter ages separated by commas (e.g., 18, 19, 20):\")\n",
        "user_input = input(\"Ages: \")\n",
        "\n",
        "# Convert input to list of integers\n",
        "try:\n",
        "    ages = [int(age.strip()) for age in user_input.split(',')]\n",
        "    eligible, ineligible = check_eligibility(ages)\n",
        "    display_results(eligible, ineligible)\n",
        "except ValueError:\n",
        "    print(\"Invalid input! Please enter numbers only.\")"
      ],
      "metadata": {
        "colab": {
          "base_uri": "https://localhost:8080/"
        },
        "id": "rZjlJqved0Me",
        "outputId": "cb85e480-3a76-4b77-87e5-ffe31e2fa6c2"
      },
      "execution_count": null,
      "outputs": [
        {
          "output_type": "stream",
          "name": "stdout",
          "text": [
            "Enter ages separated by commas (e.g., 18, 19, 20):\n",
            "Ages: 18\n",
            "=== Scholarship Eligibility Results ===\n",
            "\n",
            "Eligible candidates (age > 18): 0\n",
            "None\n",
            "\n",
            "Ineligible candidates (age ≤ 18): 1\n",
            "[18]\n",
            "\n",
            "Percentage eligible: 0.0%\n"
          ]
        }
      ]
    },
    {
      "cell_type": "markdown",
      "source": [
        "## Visualisation (code cell)\n"
      ],
      "metadata": {
        "id": "DJA0Tt01eRWI"
      }
    },
    {
      "cell_type": "code",
      "source": [
        "# Visualization (requires matplotlib)\n",
        "import matplotlib.pyplot as plt\n",
        "\n",
        "def plot_results(eligible, ineligible):\n",
        "    labels = ['Eligible', 'Ineligible']\n",
        "    counts = [len(eligible), len(ineligible)]\n",
        "\n",
        "    plt.bar(labels, counts, color=['green', 'red'])\n",
        "    plt.title('Scholarship Eligibility')\n",
        "    plt.ylabel('Number of Candidates')\n",
        "    plt.show()\n",
        "\n",
        "# Example plot\n",
        "plot_results(eligible, ineligible)"
      ],
      "metadata": {
        "colab": {
          "base_uri": "https://localhost:8080/",
          "height": 452
        },
        "id": "-EgY_6g5ec20",
        "outputId": "38083d62-c7ab-4587-afc5-5fcd337341fd"
      },
      "execution_count": null,
      "outputs": [
        {
          "output_type": "display_data",
          "data": {
            "text/plain": [
              "<Figure size 640x480 with 1 Axes>"
            ],
            "image/png": "[encoded data removed]"
          },
          "metadata": {}
        }
      ]
    },
    {
      "cell_type": "markdown",
      "source": [
        "## How to Run\n",
        "1. Run all cell\n",
        "2. For interactive version:\n",
        "   - Enter ages when prompted (e.g., \"18, 19, 20\"\n",
        "   - See results and visualistion\n",
        "\n",
        "## Enhancements\n",
        "possible improments:\n",
        "- Add student names with ages\n",
        "- Save results to file\n",
        "- Add more detailed statistics"
      ],
      "metadata": {
        "id": "tAm-IvRWemvK"
      }
    },
    {
      "cell_type": "code",
      "source": [],
      "metadata": {
        "id": "EObJH5WP-EZ6"
      },
      "execution_count": null,
      "outputs": []
    }
  ]
}